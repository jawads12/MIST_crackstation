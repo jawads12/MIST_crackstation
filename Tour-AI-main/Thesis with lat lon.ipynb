{
  "cells": [
    {
      "cell_type": "code",
      "execution_count": null,
      "metadata": {
        "id": "dvqe-sdFal3t"
      },
      "outputs": [],
      "source": []
    },
    {
      "cell_type": "code",
      "execution_count": 13,
      "metadata": {
        "id": "B9qDLatq2Xm_"
      },
      "outputs": [
        {
          "ename": "ModuleNotFoundError",
          "evalue": "No module named 'pandas'",
          "output_type": "error",
          "traceback": [
            "\u001b[1;31m---------------------------------------------------------------------------\u001b[0m",
            "\u001b[1;31mModuleNotFoundError\u001b[0m                       Traceback (most recent call last)",
            "Cell \u001b[1;32mIn[13], line 1\u001b[0m\n\u001b[1;32m----> 1\u001b[0m \u001b[38;5;28;01mimport\u001b[39;00m \u001b[38;5;21;01mpandas\u001b[39;00m \u001b[38;5;28;01mas\u001b[39;00m \u001b[38;5;21;01mpd\u001b[39;00m\n\u001b[0;32m      3\u001b[0m \u001b[38;5;66;03m# Loading the dataset\u001b[39;00m\n\u001b[0;32m      4\u001b[0m file_path \u001b[38;5;241m=\u001b[39m \u001b[38;5;124m'\u001b[39m\u001b[38;5;124m/content/drive/MyDrive/Tour_Thesis/Updated_User_Data_Sylhet_Places.xlsx\u001b[39m\u001b[38;5;124m'\u001b[39m\n",
            "\u001b[1;31mModuleNotFoundError\u001b[0m: No module named 'pandas'"
          ]
        },
        {
          "ename": "",
          "evalue": "",
          "output_type": "error",
          "traceback": [
            "\u001b[1;31mThe Kernel crashed while executing code in the current cell or a previous cell. \n",
            "\u001b[1;31mPlease review the code in the cell(s) to identify a possible cause of the failure. \n",
            "\u001b[1;31mClick <a href='https://aka.ms/vscodeJupyterKernelCrash'>here</a> for more info. \n",
            "\u001b[1;31mView Jupyter <a href='command:jupyter.viewOutput'>log</a> for further details."
          ]
        }
      ],
      "source": [
        "import pandas as pd\n",
        "\n",
        "# Loading the dataset\n",
        "file_path = '/content/drive/MyDrive/Tour_Thesis/Updated_User_Data_Sylhet_Places.xlsx'\n",
        "data = pd.read_excel(file_path)\n",
        "\n",
        "# Displaying the first few rows of the dataset to understand its structure\n",
        "data.head()\n",
        "\n",
        "from sklearn.model_selection import train_test_split\n",
        "from sklearn.ensemble import RandomForestClassifier\n",
        "from sklearn.metrics import accuracy_score, classification_report"
      ]
    },
    {
      "cell_type": "code",
      "execution_count": null,
      "metadata": {
        "id": "GsHpEexMbPIM"
      },
      "outputs": [],
      "source": []
    },
    {
      "cell_type": "code",
      "execution_count": null,
      "metadata": {
        "colab": {
          "base_uri": "https://localhost:8080/"
        },
        "id": "sZ3xAc6HZs96",
        "outputId": "bf2a67d5-88a9-45dd-a3ec-139a557b8c61"
      },
      "outputs": [
        {
          "name": "stdout",
          "output_type": "stream",
          "text": [
            "Drive already mounted at /content/drive; to attempt to forcibly remount, call drive.mount(\"/content/drive\", force_remount=True).\n"
          ]
        }
      ],
      "source": [
        "from google.colab import drive\n",
        "drive.mount('/content/drive')"
      ]
    },
    {
      "cell_type": "code",
      "execution_count": null,
      "metadata": {
        "id": "BiUwMmfFisRd"
      },
      "outputs": [],
      "source": []
    },
    {
      "cell_type": "code",
      "execution_count": null,
      "metadata": {
        "colab": {
          "base_uri": "https://localhost:8080/"
        },
        "id": "lJBboBFWf2Jj",
        "outputId": "7372567e-376b-4868-d9ea-2fb215507d90"
      },
      "outputs": [
        {
          "name": "stdout",
          "output_type": "stream",
          "text": [
            "Model Accuracy: 0.06333333333333334\n",
            "Classification Report:\n",
            "               precision    recall  f1-score   support\n",
            "\n",
            "           1       0.00      0.00      0.00        10\n",
            "           2       0.14      0.07      0.10        14\n",
            "           3       0.06      0.20      0.09         5\n",
            "           4       0.00      0.00      0.00        16\n",
            "           5       0.05      0.07      0.05        15\n",
            "           6       0.00      0.00      0.00        21\n",
            "           7       0.00      0.00      0.00        16\n",
            "           8       0.18      0.12      0.14        17\n",
            "           9       0.00      0.00      0.00        14\n",
            "          10       0.00      0.00      0.00        11\n",
            "          11       0.07      0.07      0.07        15\n",
            "          12       0.10      0.16      0.12        19\n",
            "          13       0.11      0.15      0.13        13\n",
            "          14       0.07      0.09      0.08        11\n",
            "          15       0.00      0.00      0.00        25\n",
            "          16       0.00      0.00      0.00        10\n",
            "          17       0.06      0.06      0.06        16\n",
            "          18       0.09      0.10      0.10        20\n",
            "          19       0.15      0.19      0.17        16\n",
            "          20       0.05      0.06      0.06        16\n",
            "\n",
            "    accuracy                           0.06       300\n",
            "   macro avg       0.06      0.07      0.06       300\n",
            "weighted avg       0.06      0.06      0.06       300\n",
            "\n"
          ]
        }
      ],
      "source": [
        "\n",
        "data = data.dropna()\n",
        "\n",
        "# Splitting the dataset into features and target\n",
        "X = data[['Gender', 'DayOrder', 'Season', 'With', 'Budget']]\n",
        "y = data['Place ID']\n",
        "\n",
        "# Splitting the dataset into training and testing sets\n",
        "X_train, X_test, y_train, y_test = train_test_split(X, y, test_size=0.3, random_state=42)\n",
        "\n",
        "# Training the Random Forest model\n",
        "model = RandomForestClassifier(n_estimators=100, random_state=42)\n",
        "model.fit(X_train, y_train)\n",
        "\n",
        "# Predicting and evaluating the model\n",
        "y_pred = model.predict(X_test)\n",
        "accuracy = accuracy_score(y_test, y_pred)\n",
        "report = classification_report(y_test, y_pred)\n",
        "\n",
        "print(\"Model Accuracy:\", accuracy)\n",
        "print(\"Classification Report:\\n\", report)\n"
      ]
    },
    {
      "cell_type": "code",
      "execution_count": null,
      "metadata": {
        "colab": {
          "base_uri": "https://localhost:8080/"
        },
        "id": "lB8HD0ATdjB6",
        "outputId": "9c574c88-a096-4ee1-c65a-1c0375b1a7ca"
      },
      "outputs": [
        {
          "name": "stdout",
          "output_type": "stream",
          "text": [
            "Predicted Place ID: 19\n"
          ]
        }
      ],
      "source": [
        "def predict_place_id(gender, day_order, season, with_whom, budget):\n",
        "    # Convert input data to a DataFrame (as our model expects a DataFrame input)\n",
        "    input_data = pd.DataFrame([[gender, day_order, season, with_whom, budget]],\n",
        "                              columns=['Gender', 'DayOrder', 'Season', 'With', 'Budget'])\n",
        "\n",
        "    # Use the model to make a prediction\n",
        "    predicted_place_id = model.predict(input_data)\n",
        "\n",
        "    return predicted_place_id[0]\n",
        "\n",
        "# Example of using the function\n",
        "# Replace these values with your input\n",
        "gender_input = 1  # Example input\n",
        "day_order_input = 1\n",
        "season_input = 2\n",
        "with_input = 3\n",
        "budget_input = 3\n",
        "\n",
        "predicted_place = predict_place_id(gender_input, day_order_input, season_input, with_input, budget_input)\n",
        "print(\"Predicted Place ID:\", predicted_place)\n"
      ]
    },
    {
      "cell_type": "code",
      "execution_count": null,
      "metadata": {
        "id": "WPY4hqL-i02O"
      },
      "outputs": [],
      "source": []
    },
    {
      "cell_type": "code",
      "execution_count": null,
      "metadata": {
        "colab": {
          "base_uri": "https://localhost:8080/"
        },
        "id": "UdZhaZCUibyZ",
        "outputId": "987f88bb-fe6a-4369-c837-25df9f2506ad"
      },
      "outputs": [
        {
          "name": "stdout",
          "output_type": "stream",
          "text": [
            "Hum Hum Waterfall\n"
          ]
        }
      ],
      "source": [
        "import pandas as pd\n",
        "from sklearn.ensemble import RandomForestClassifier\n",
        "\n",
        "# Load the feature mapping table\n",
        "mapping_table_path = '/content/drive/MyDrive/Tour_Thesis/Mapping_Table.xlsx'\n",
        "feature_mapping = pd.read_excel(mapping_table_path)\n",
        "\n",
        "# Function to map Place IDs to place names\n",
        "def map_place_id_to_name(place_id):\n",
        "    place_id_name_mapping = {\n",
        "        1: 'Ratargul Swamp Forest',\n",
        "    2: 'Jaflong',\n",
        "    3: 'Lalakhal',\n",
        "    4: 'Bichanakandi',\n",
        "    5: 'Srimangal',\n",
        "    6: 'Lawachara National Park',\n",
        "    7: 'Madhabkunda Waterfall',\n",
        "    8: 'SUST Campus',\n",
        "    9: 'Osmani Museum',\n",
        "    10: 'Hazrat Shahjalal Mazar Sharif',\n",
        "    11: 'Hazrat Shah Paran Bangla Bazar Mosque',\n",
        "    12: 'Dreamland Amusement & Water Park',\n",
        "    13: 'Tea estates in Sreemangal',\n",
        "    14: 'Tamabil-Jaflong border area',\n",
        "    15: 'Rajasri Waterfall',\n",
        "    16: 'Malnichhara Tea Estate',\n",
        "    17: 'Moulvibazar town',\n",
        "    18: 'Pangthumai Waterfall',\n",
        "    19: 'Hum Hum Waterfall',\n",
        "    20: 'Dargah of Hazrat Shah Jalal'\n",
        "    }\n",
        "    return place_id_name_mapping.get(place_id, \"Unknown Place\")\n",
        "\n",
        "# Function to convert categorical feature values to numeric codes\n",
        "def convert_to_numeric(features):\n",
        "    numeric_values = []\n",
        "    for feature, value in features.items():\n",
        "        if feature == 'DayOrder':\n",
        "            # Directly use the numeric value for DayOrder\n",
        "            numeric_values.append(value)\n",
        "        else:\n",
        "            numeric_value = feature_mapping[\n",
        "                (feature_mapping['Feature'] == feature) &\n",
        "                (feature_mapping['Categorical Value'] == value)\n",
        "            ]['Numeric Code'].values\n",
        "            if numeric_value.size > 0:\n",
        "                numeric_values.append(numeric_value[0])\n",
        "            else:\n",
        "                raise ValueError(f\"Invalid value for {feature}: {value}\")\n",
        "    return numeric_values\n",
        "def predict_place(gender, day_order, season, with_whom, budget):\n",
        "    # Convert inputs to numeric codes\n",
        "    features = {\n",
        "        \"Gender\": gender,\n",
        "        \"DayOrder\": day_order,\n",
        "        \"Season\": season,\n",
        "        \"With\": with_whom,\n",
        "        \"Budget\": budget\n",
        "    }\n",
        "    numeric_features = convert_to_numeric(features)\n",
        "\n",
        "    # Create a DataFrame with the correct feature names\n",
        "    feature_names = ['Gender', 'DayOrder', 'Season', 'With', 'Budget']  # Adjust these names based on your model training\n",
        "    input_df = pd.DataFrame([numeric_features], columns=feature_names)\n",
        "\n",
        "    # Assuming model is already trained and named 'model'\n",
        "    predicted_place_id = model.predict(input_df)[0]\n",
        "\n",
        "    # Map Place ID to Place Name\n",
        "    place_name = map_place_id_to_name(predicted_place_id)\n",
        "    return place_name\n",
        "\n",
        "# Example usage\n",
        "print(predict_place(\"Male\", 1, \"Winter\", \"Family\", \"High\"))  # Replace with actual values\n",
        "\n"
      ]
    },
    {
      "cell_type": "code",
      "execution_count": null,
      "metadata": {
        "colab": {
          "base_uri": "https://localhost:8080/"
        },
        "id": "rPIyLEcMi3Ns",
        "outputId": "25b2ca27-e066-439c-888e-dd3861153e93"
      },
      "outputs": [
        {
          "name": "stdout",
          "output_type": "stream",
          "text": [
            "Select Gender:\n",
            "1. Male\n",
            "2. Female\n",
            "Enter choice (number): 1\n",
            "Enter Day Order (number): 2\n",
            "Select Season:\n",
            "1. Winter\n",
            "2. Rainy\n",
            "3. Summer\n",
            "Enter choice (number): 3\n",
            "Select With:\n",
            "1. Family\n",
            "2. Friend\n",
            "3. Couple\n",
            "Enter choice (number): 1\n",
            "Select Budget:\n",
            "1. Low\n",
            "2. Medium\n",
            "3. High\n",
            "Enter choice (number): 2\n",
            "Predicted Place: Ratargul Swamp Forest\n"
          ]
        }
      ],
      "source": [
        "def get_user_input(feature, options):\n",
        "    print(f\"Select {feature}:\")\n",
        "    for i, option in enumerate(options, 1):\n",
        "        print(f\"{i}. {option}\")\n",
        "    choice = int(input(\"Enter choice (number): \"))\n",
        "    return options[choice - 1]\n",
        "\n",
        "def main():\n",
        "    # Define options for each feature\n",
        "    gender_options = feature_mapping[feature_mapping['Feature'] == 'Gender']['Categorical Value'].tolist()\n",
        "    season_options = feature_mapping[feature_mapping['Feature'] == 'Season']['Categorical Value'].tolist()\n",
        "    with_options = feature_mapping[feature_mapping['Feature'] == 'With']['Categorical Value'].tolist()\n",
        "    budget_options = feature_mapping[feature_mapping['Feature'] == 'Budget']['Categorical Value'].tolist()\n",
        "\n",
        "    # Get user input for each feature\n",
        "    gender = get_user_input(\"Gender\", gender_options)\n",
        "    day_order = int(input(\"Enter Day Order (number): \"))\n",
        "    season = get_user_input(\"Season\", season_options)\n",
        "    with_whom = get_user_input(\"With\", with_options)\n",
        "    budget = get_user_input(\"Budget\", budget_options)\n",
        "\n",
        "    # Predict the place\n",
        "    place_name = predict_place(gender, day_order, season, with_whom, budget)\n",
        "    print(f\"Predicted Place: {place_name}\")\n",
        "\n",
        "if __name__ == \"__main__\":\n",
        "    main()\n"
      ]
    },
    {
      "cell_type": "code",
      "execution_count": null,
      "metadata": {
        "id": "NDMmZ2tJi_su"
      },
      "outputs": [],
      "source": [
        "import numpy as np\n",
        "\n",
        "def main():\n",
        "    # Define options for each feature\n",
        "    gender_options = feature_mapping[feature_mapping['Feature'] == 'Gender']['Categorical Value'].tolist()\n",
        "    season_options = feature_mapping[feature_mapping['Feature'] == 'Season']['Categorical Value'].tolist()\n",
        "    with_options = feature_mapping[feature_mapping['Feature'] == 'With']['Categorical Value'].tolist()\n",
        "    budget_options = feature_mapping[feature_mapping['Feature'] == 'Budget']['Categorical Value'].tolist()\n",
        "\n",
        "    # Get user input for each feature\n",
        "    # gender = get_user_input(\"Gender\", gender_options)\n",
        "    # day_order = int(input(\"Enter Day Order (number): \"))\n",
        "    # season = get_user_input(\"Season\", season_options)\n",
        "    # with_whom = get_user_input(\"With\", with_options)\n",
        "    # budget = get_user_input(\"Budget\", budget_options)\n",
        "\n",
        "    # Predict the primary place and the next 9 places\n",
        "    # primary_place, next_places = predict_place_and_next_places(gender, day_order, season, with_whom, budget)\n",
        "    # print(f\"Primary Predicted Place: {primary_place}\")\n",
        "    # print(\"\\nNext Predicted Places:\")\n",
        "    # for place, probability in next_places:\n",
        "    #     print(f\"{place}: {probability:.2f}\")\n",
        "\n",
        "if __name__ == \"__main__\":\n",
        "    main()\n"
      ]
    },
    {
      "cell_type": "code",
      "execution_count": null,
      "metadata": {
        "colab": {
          "base_uri": "https://localhost:8080/"
        },
        "id": "0TqwteeWjaNq",
        "outputId": "5bc0acc1-7dee-45af-b754-e3f0b2218bb7"
      },
      "outputs": [
        {
          "name": "stdout",
          "output_type": "stream",
          "text": [
            "Collecting haversine\n",
            "  Downloading haversine-2.8.1-py2.py3-none-any.whl (7.7 kB)\n",
            "Installing collected packages: haversine\n",
            "Successfully installed haversine-2.8.1\n"
          ]
        }
      ],
      "source": [
        "pip install haversine\n"
      ]
    },
    {
      "cell_type": "code",
      "execution_count": null,
      "metadata": {
        "id": "APqIo4TAjg1O"
      },
      "outputs": [],
      "source": [
        "import pandas as pd\n",
        "import numpy as np\n",
        "from sklearn.ensemble import RandomForestClassifier\n",
        "from haversine import haversine"
      ]
    },
    {
      "cell_type": "code",
      "execution_count": null,
      "metadata": {
        "id": "0KDxR1bMjlDl"
      },
      "outputs": [
        {
          "ename": "NameError",
          "evalue": "name 'feature_mapping' is not defined",
          "output_type": "error",
          "traceback": [
            "\u001b[1;31m---------------------------------------------------------------------------\u001b[0m",
            "\u001b[1;31mNameError\u001b[0m                                 Traceback (most recent call last)",
            "Cell \u001b[1;32mIn[10], line 78\u001b[0m\n\u001b[0;32m     45\u001b[0m     \u001b[38;5;66;03m# # Get user input for each feature\u001b[39;00m\n\u001b[0;32m     46\u001b[0m     \u001b[38;5;66;03m# gender = get_user_input(\"Gender\", gender_options)\u001b[39;00m\n\u001b[0;32m     47\u001b[0m     \u001b[38;5;66;03m# day_order = int(input(\"Enter Day Order (number): \"))\u001b[39;00m\n\u001b[1;32m   (...)\u001b[0m\n\u001b[0;32m     74\u001b[0m     \u001b[38;5;66;03m# for place, distance in places_with_distances:\u001b[39;00m\n\u001b[0;32m     75\u001b[0m     \u001b[38;5;66;03m#     print(f\"{place}: {distance:.2f} km\")\u001b[39;00m\n\u001b[0;32m     77\u001b[0m \u001b[38;5;28;01mif\u001b[39;00m \u001b[38;5;18m__name__\u001b[39m \u001b[38;5;241m==\u001b[39m \u001b[38;5;124m\"\u001b[39m\u001b[38;5;124m__main__\u001b[39m\u001b[38;5;124m\"\u001b[39m:\n\u001b[1;32m---> 78\u001b[0m     \u001b[43mmain\u001b[49m\u001b[43m(\u001b[49m\u001b[43m)\u001b[49m\n",
            "Cell \u001b[1;32mIn[10], line 40\u001b[0m, in \u001b[0;36mmain\u001b[1;34m()\u001b[0m\n\u001b[0;32m     37\u001b[0m \u001b[38;5;28;01mdef\u001b[39;00m \u001b[38;5;21mmain\u001b[39m():\n\u001b[0;32m     38\u001b[0m \n\u001b[0;32m     39\u001b[0m    \u001b[38;5;66;03m# Define options for each feature\u001b[39;00m\n\u001b[1;32m---> 40\u001b[0m     gender_options \u001b[38;5;241m=\u001b[39m \u001b[43mfeature_mapping\u001b[49m[feature_mapping[\u001b[38;5;124m'\u001b[39m\u001b[38;5;124mFeature\u001b[39m\u001b[38;5;124m'\u001b[39m] \u001b[38;5;241m==\u001b[39m \u001b[38;5;124m'\u001b[39m\u001b[38;5;124mGender\u001b[39m\u001b[38;5;124m'\u001b[39m][\u001b[38;5;124m'\u001b[39m\u001b[38;5;124mCategorical Value\u001b[39m\u001b[38;5;124m'\u001b[39m]\u001b[38;5;241m.\u001b[39mtolist()\n\u001b[0;32m     41\u001b[0m     season_options \u001b[38;5;241m=\u001b[39m feature_mapping[feature_mapping[\u001b[38;5;124m'\u001b[39m\u001b[38;5;124mFeature\u001b[39m\u001b[38;5;124m'\u001b[39m] \u001b[38;5;241m==\u001b[39m \u001b[38;5;124m'\u001b[39m\u001b[38;5;124mSeason\u001b[39m\u001b[38;5;124m'\u001b[39m][\u001b[38;5;124m'\u001b[39m\u001b[38;5;124mCategorical Value\u001b[39m\u001b[38;5;124m'\u001b[39m]\u001b[38;5;241m.\u001b[39mtolist()\n\u001b[0;32m     42\u001b[0m     with_options \u001b[38;5;241m=\u001b[39m feature_mapping[feature_mapping[\u001b[38;5;124m'\u001b[39m\u001b[38;5;124mFeature\u001b[39m\u001b[38;5;124m'\u001b[39m] \u001b[38;5;241m==\u001b[39m \u001b[38;5;124m'\u001b[39m\u001b[38;5;124mWith\u001b[39m\u001b[38;5;124m'\u001b[39m][\u001b[38;5;124m'\u001b[39m\u001b[38;5;124mCategorical Value\u001b[39m\u001b[38;5;124m'\u001b[39m]\u001b[38;5;241m.\u001b[39mtolist()\n",
            "\u001b[1;31mNameError\u001b[0m: name 'feature_mapping' is not defined"
          ]
        }
      ],
      "source": [
        "# Function to calculate distance\n",
        "def calculate_distance(coord1, coord2):\n",
        "    return haversine(coord1, coord2)\n",
        "place_coordinates = {\n",
        "    1: (24.9725, 91.7389),  # Ratargul Swamp Forest\n",
        "    2: (25.1704, 92.0957),  # Jaflong\n",
        "    3: (24.7425, 92.3453),  # Lalakhal\n",
        "    4: (25.1827, 92.1801),  # Bichanakandi\n",
        "    5: (24.3065, 91.7296),  # Srimangal\n",
        "    6: (24.3926, 91.7866),  # Lawachara National Park\n",
        "    7: (24.5300, 91.9896),  # Madhabkunda Waterfall\n",
        "    8: (24.8975, 91.8611),  # SUST Campus\n",
        "    9: (24.8992, 91.8715),  # Osmani Museum\n",
        "    10: (24.8918, 91.8667), # Hazrat Shahjalal Mazar Sharif\n",
        "    11: (24.8992, 91.8721), # Hazrat Shah Paran Bangla Bazar Mosque\n",
        "    12: (24.8542, 91.8677), # Dreamland Amusement & Water Park\n",
        "    13: (24.3238, 91.7257), # Tea estates in Sreemangal\n",
        "    14: (25.1561, 92.1137), # Tamabil-Jaflong border area\n",
        "    15: (24.4650, 91.9668), # Rajasri Waterfall\n",
        "    16: (24.8912, 91.8607), # Malnichhara Tea Estate\n",
        "    17: (24.4986, 91.7715), # Moulvibazar town\n",
        "    18: (24.7331, 91.9602), # Pangthumai Waterfall\n",
        "    19: (24.5997, 92.1953), # Hum Hum Waterfall\n",
        "    20: (24.9025, 91.8740)  # Dargah of Hazrat Shah Jalal\n",
        "}\n",
        "\n",
        "# You can now use this dictionary in your script to calculate distances.\n",
        "\n",
        "# Function to predict the top 12 place IDs\n",
        "def predict_top_12_place_ids(input_df):\n",
        "    probabilities = model.predict_proba(input_df)\n",
        "    top_12_indices = np.argsort(probabilities, axis=1)[0][-12:]\n",
        "    top_12_place_ids = [model.classes_[i] for i in top_12_indices]\n",
        "    return top_12_place_ids\n",
        "\n",
        "# Main function\n",
        "def main():\n",
        "\n",
        "   # Define options for each feature\n",
        "    gender_options = feature_mapping[feature_mapping['Feature'] == 'Gender']['Categorical Value'].tolist()\n",
        "    season_options = feature_mapping[feature_mapping['Feature'] == 'Season']['Categorical Value'].tolist()\n",
        "    with_options = feature_mapping[feature_mapping['Feature'] == 'With']['Categorical Value'].tolist()\n",
        "    budget_options = feature_mapping[feature_mapping['Feature'] == 'Budget']['Categorical Value'].tolist()\n",
        "\n",
        "    # # Get user input for each feature\n",
        "    # gender = get_user_input(\"Gender\", gender_options)\n",
        "    # day_order = int(input(\"Enter Day Order (number): \"))\n",
        "    # season = get_user_input(\"Season\", season_options)\n",
        "    # with_whom = get_user_input(\"With\", with_options)\n",
        "    # budget = get_user_input(\"Budget\", budget_options)\n",
        "\n",
        "    # # Convert inputs to numeric codes and create a DataFrame\n",
        "    # features = {\"Gender\": gender, \"DayOrder\": day_order, \"Season\": season, \"With\": with_whom, \"Budget\": budget}\n",
        "    # numeric_features = convert_to_numeric(features)\n",
        "    # input_df = pd.DataFrame([numeric_features], columns=['Gender', 'DayOrder', 'Season', 'With', 'Budget'])\n",
        "\n",
        "    # # Predict the top 12 places\n",
        "    # top_place_ids = predict_top_12_place_ids(input_df)\n",
        "\n",
        "    # # Coordinates of the reference point\n",
        "    # ref_point = (24.8903, 91.8715)\n",
        "\n",
        "    # # Calculate distances and sort places\n",
        "    # places_with_distances = []\n",
        "    # for place_id in top_place_ids:\n",
        "    #     place_coord = place_coordinates[place_id]  # Replace with actual place coordinates\n",
        "    #     distance = calculate_distance(ref_point, place_coord)\n",
        "    #     place_name = map_place_id_to_name(place_id)\n",
        "    #     places_with_distances.append((place_name, distance))\n",
        "\n",
        "    # places_with_distances.sort(key=lambda x: x[1])\n",
        "\n",
        "    # # Print sorted places and distances\n",
        "    # for place, distance in places_with_distances:\n",
        "    #     print(f\"{place}: {distance:.2f} km\")\n",
        "\n",
        "if __name__ == \"__main__\":\n",
        "    main()"
      ]
    },
    {
      "cell_type": "code",
      "execution_count": null,
      "metadata": {
        "colab": {
          "base_uri": "https://localhost:8080/"
        },
        "id": "dFWrx7tUjqmT",
        "outputId": "40f840a2-a541-4982-cefb-b910e98b2735"
      },
      "outputs": [
        {
          "name": "stdout",
          "output_type": "stream",
          "text": [
            "Select Gender:\n",
            "1. Male\n",
            "2. Female\n",
            "Enter choice (number): 2\n",
            "Select Season:\n",
            "1. Winter\n",
            "2. Rainy\n",
            "3. Summer\n",
            "Enter choice (number): 1\n",
            "Select With:\n",
            "1. Family\n",
            "2. Friend\n",
            "3. Couple\n",
            "Enter choice (number): 2\n",
            "Select Budget:\n",
            "1. Low\n",
            "2. Medium\n",
            "3. High\n",
            "Enter choice (number): 1\n",
            "Enter the number of tour days (1, 2, or 3): 3\n",
            "\n",
            "Day 1 Itinerary:\n",
            "Hazrat Shahjalal Mazar Sharif: 0.51 km\n",
            "Osmani Museum: 0.99 km\n",
            "SUST Campus: 1.32 km\n",
            "Dargah of Hazrat Shah Jalal: 1.38 km\n",
            "\n",
            "Day 2 Itinerary:\n",
            "Hazrat Shahjalal Mazar Sharif: 0.51 km\n",
            "Malnichhara Tea Estate: 1.09 km\n",
            "SUST Campus: 1.32 km\n",
            "Dargah of Hazrat Shah Jalal: 1.38 km\n",
            "\n",
            "Day 3 Itinerary:\n",
            "Hazrat Shahjalal Mazar Sharif: 0.51 km\n",
            "Osmani Museum: 0.99 km\n",
            "SUST Campus: 1.32 km\n",
            "Dargah of Hazrat Shah Jalal: 1.38 km\n"
          ]
        }
      ],
      "source": [
        "def main():\n",
        "    # Define options for each feature, excluding DayOrder\n",
        "    gender_options = feature_mapping[feature_mapping['Feature'] == 'Gender']['Categorical Value'].tolist()\n",
        "    season_options = feature_mapping[feature_mapping['Feature'] == 'Season']['Categorical Value'].tolist()\n",
        "    with_options = feature_mapping[feature_mapping['Feature'] == 'With']['Categorical Value'].tolist()\n",
        "    budget_options = feature_mapping[feature_mapping['Feature'] == 'Budget']['Categorical Value'].tolist()\n",
        "\n",
        "    # Get user input for each feature\n",
        "    gender = get_user_input(\"Gender\", gender_options)\n",
        "    season = get_user_input(\"Season\", season_options)\n",
        "    with_whom = get_user_input(\"With\", with_options)\n",
        "    budget = get_user_input(\"Budget\", budget_options)\n",
        "\n",
        "    # Ask for the number of tour days (1, 2, or 3)\n",
        "    num_days = int(input(\"Enter the number of tour days (1, 2, or 3): \"))\n",
        "    if num_days not in [1, 2, 3]:\n",
        "        print(\"Invalid number of days. Please enter 1, 2, or 3.\")\n",
        "        return\n",
        "    ref_point = (24.8903, 91.8715)\n",
        "\n",
        "    for day_order in range(1, num_days + 1):\n",
        "        # Convert inputs to numeric codes and create a DataFrame for each day\n",
        "        features = {\"Gender\": gender, \"DayOrder\": day_order, \"Season\": season, \"With\": with_whom, \"Budget\": budget}\n",
        "        numeric_features = convert_to_numeric(features)\n",
        "        input_df = pd.DataFrame([numeric_features], columns=['Gender', 'DayOrder', 'Season', 'With', 'Budget'])\n",
        "\n",
        "        # Predict the top 12 places\n",
        "        top_place_ids = predict_top_12_place_ids(input_df)\n",
        "\n",
        "        # Calculate distances and sort places\n",
        "        places_with_distances = []\n",
        "        for place_id in top_place_ids:\n",
        "            place_coord = place_coordinates[place_id]\n",
        "            distance = calculate_distance(ref_point, place_coord)\n",
        "            place_name = map_place_id_to_name(place_id)\n",
        "            places_with_distances.append((place_name, distance))\n",
        "\n",
        "        places_with_distances.sort(key=lambda x: x[1])\n",
        "\n",
        "        # Print 4 places for the current day\n",
        "        print(f\"\\nDay {day_order} Itinerary:\")\n",
        "        for place, distance in places_with_distances[:4]:\n",
        "            print(f\"{place}: {distance:.2f} km\")\n",
        "\n",
        "        # Remove the top 4 places to avoid repetition on next days\n",
        "        places_with_distances = places_with_distances[4:]\n",
        "\n",
        "if __name__ == \"__main__\":\n",
        "    main()\n"
      ]
    },
    {
      "cell_type": "code",
      "execution_count": null,
      "metadata": {
        "colab": {
          "base_uri": "https://localhost:8080/"
        },
        "id": "C8IZMnk3j60J",
        "outputId": "00db4460-9425-43f2-9c43-88f43b8a39fe"
      },
      "outputs": [
        {
          "name": "stdout",
          "output_type": "stream",
          "text": [
            "Select Gender:\n",
            "1. Male\n",
            "2. Female\n",
            "Enter choice (number): 2\n",
            "Select Season:\n",
            "1. Winter\n",
            "2. Rainy\n",
            "3. Summer\n",
            "Enter choice (number): 1\n",
            "Select With:\n",
            "1. Family\n",
            "2. Friend\n",
            "3. Couple\n",
            "Enter choice (number): 2\n",
            "Select Budget:\n",
            "1. Low\n",
            "2. Medium\n",
            "3. High\n",
            "Enter choice (number): 3\n",
            "Enter the number of tour days (1, 2, or 3): 3\n",
            "\n",
            "Day 1 Itinerary:\n",
            "Hazrat Shahjalal Mazar Sharif: 0.51 km\n",
            "Osmani Museum: 0.99 km\n",
            "Hazrat Shah Paran Bangla Bazar Mosque: 0.99 km\n",
            "SUST Campus: 1.32 km\n",
            "\n",
            "Day 2 Itinerary:\n",
            "Dreamland Amusement & Water Park: 4.03 km\n",
            "Ratargul Swamp Forest: 16.20 km\n",
            "Tamabil-Jaflong border area: 38.33 km\n",
            "Jaflong: 38.47 km\n",
            "\n",
            "Day 3 Itinerary:\n",
            "Madhabkunda Waterfall: 41.80 km\n",
            "Rajasri Waterfall: 48.26 km\n",
            "Lawachara National Park: 56.00 km\n",
            "Tea estates in Sreemangal: 64.69 km\n"
          ]
        }
      ],
      "source": [
        "def main():\n",
        "    # Define options for each feature, excluding DayOrder\n",
        "    gender_options = feature_mapping[feature_mapping['Feature'] == 'Gender']['Categorical Value'].tolist()\n",
        "    season_options = feature_mapping[feature_mapping['Feature'] == 'Season']['Categorical Value'].tolist()\n",
        "    with_options = feature_mapping[feature_mapping['Feature'] == 'With']['Categorical Value'].tolist()\n",
        "    budget_options = feature_mapping[feature_mapping['Feature'] == 'Budget']['Categorical Value'].tolist()\n",
        "\n",
        "    # Get user input for each feature\n",
        "    gender = get_user_input(\"Gender\", gender_options)\n",
        "    season = get_user_input(\"Season\", season_options)\n",
        "    with_whom = get_user_input(\"With\", with_options)\n",
        "    budget = get_user_input(\"Budget\", budget_options)\n",
        "\n",
        "    # Convert inputs to numeric codes and create a DataFrame\n",
        "    # Use a fixed DayOrder (e.g., 1) as it's not used directly for prediction in this context\n",
        "    features = {\"Gender\": gender, \"DayOrder\": 1, \"Season\": season, \"With\": with_whom, \"Budget\": budget}\n",
        "    numeric_features = convert_to_numeric(features)\n",
        "    input_df = pd.DataFrame([numeric_features], columns=['Gender', 'DayOrder', 'Season', 'With', 'Budget'])\n",
        "\n",
        "    # Predict the top 12 places\n",
        "    top_place_ids = predict_top_12_place_ids(input_df)\n",
        "    ref_point = (24.8903, 91.8715)\n",
        "\n",
        "    # Calculate distances and sort places\n",
        "    places_with_distances = []\n",
        "    for place_id in top_place_ids:\n",
        "        place_coord = place_coordinates[place_id]\n",
        "        distance = calculate_distance(ref_point, place_coord)\n",
        "        place_name = map_place_id_to_name(place_id)\n",
        "        places_with_distances.append((place_name, distance))\n",
        "\n",
        "    places_with_distances.sort(key=lambda x: x[1])\n",
        "\n",
        "    # Ask for the number of tour days (1, 2, or 3)\n",
        "    num_days = int(input(\"Enter the number of tour days (1, 2, or 3): \"))\n",
        "    if num_days not in [1, 2, 3]:\n",
        "        print(\"Invalid number of days. Please enter 1, 2, or 3.\")\n",
        "        return\n",
        "\n",
        "    # Split the sorted places across the days\n",
        "    for day_order in range(1, num_days + 1):\n",
        "        start_index = (day_order - 1) * 4\n",
        "        end_index = start_index + 4\n",
        "\n",
        "        # Print 4 places for the current day\n",
        "        print(f\"\\nDay {day_order} Itinerary:\")\n",
        "        for place, distance in places_with_distances[start_index:end_index]:\n",
        "            print(f\"{place}: {distance:.2f} km\")\n",
        "\n",
        "if __name__ == \"__main__\":\n",
        "    main()\n"
      ]
    }
  ],
  "metadata": {
    "colab": {
      "provenance": []
    },
    "kernelspec": {
      "display_name": "Python 3",
      "name": "python3"
    },
    "language_info": {
      "codemirror_mode": {
        "name": "ipython",
        "version": 3
      },
      "file_extension": ".py",
      "mimetype": "text/x-python",
      "name": "python",
      "nbconvert_exporter": "python",
      "pygments_lexer": "ipython3",
      "version": "3.11.8"
    }
  },
  "nbformat": 4,
  "nbformat_minor": 0
}
